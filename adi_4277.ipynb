{
  "nbformat": 4,
  "nbformat_minor": 0,
  "metadata": {
    "colab": {
      "name": "adi_4277.ipynb",
      "provenance": [],
      "collapsed_sections": [],
      "authorship_tag": "ABX9TyN07/2WLO8PysOhnYmtXqoE",
      "include_colab_link": true
    },
    "kernelspec": {
      "name": "python3",
      "display_name": "Python 3"
    },
    "language_info": {
      "name": "python"
    },
    "widgets": {
      "application/vnd.jupyter.widget-state+json": {
        "9fdee3c9ecbd4b5c8e6e56428cac8515": {
          "model_module": "@jupyter-widgets/controls",
          "model_name": "HBoxModel",
          "model_module_version": "1.5.0",
          "state": {
            "_view_name": "HBoxView",
            "_dom_classes": [],
            "_model_name": "HBoxModel",
            "_view_module": "@jupyter-widgets/controls",
            "_model_module_version": "1.5.0",
            "_view_count": null,
            "_view_module_version": "1.5.0",
            "box_style": "",
            "layout": "IPY_MODEL_0d248080d2654b7494681a4562244e42",
            "_model_module": "@jupyter-widgets/controls",
            "children": [
              "IPY_MODEL_9bd42534a77b4f5cb7a02e69e9157799",
              "IPY_MODEL_4d57415b44514517814aa0ac5b166ab1",
              "IPY_MODEL_197935f56b5647da9e44b85f306558ef"
            ]
          }
        },
        "0d248080d2654b7494681a4562244e42": {
          "model_module": "@jupyter-widgets/base",
          "model_name": "LayoutModel",
          "model_module_version": "1.2.0",
          "state": {
            "_view_name": "LayoutView",
            "grid_template_rows": null,
            "right": null,
            "justify_content": null,
            "_view_module": "@jupyter-widgets/base",
            "overflow": null,
            "_model_module_version": "1.2.0",
            "_view_count": null,
            "flex_flow": null,
            "width": null,
            "min_width": null,
            "border": null,
            "align_items": null,
            "bottom": null,
            "_model_module": "@jupyter-widgets/base",
            "top": null,
            "grid_column": null,
            "overflow_y": null,
            "overflow_x": null,
            "grid_auto_flow": null,
            "grid_area": null,
            "grid_template_columns": null,
            "flex": null,
            "_model_name": "LayoutModel",
            "justify_items": null,
            "grid_row": null,
            "max_height": null,
            "align_content": null,
            "visibility": null,
            "align_self": null,
            "height": null,
            "min_height": null,
            "padding": null,
            "grid_auto_rows": null,
            "grid_gap": null,
            "max_width": null,
            "order": null,
            "_view_module_version": "1.2.0",
            "grid_template_areas": null,
            "object_position": null,
            "object_fit": null,
            "grid_auto_columns": null,
            "margin": null,
            "display": null,
            "left": null
          }
        },
        "9bd42534a77b4f5cb7a02e69e9157799": {
          "model_module": "@jupyter-widgets/controls",
          "model_name": "HTMLModel",
          "model_module_version": "1.5.0",
          "state": {
            "_view_name": "HTMLView",
            "style": "IPY_MODEL_797eb94c059e46d68e15d67cbbd1b94b",
            "_dom_classes": [],
            "description": "",
            "_model_name": "HTMLModel",
            "placeholder": "​",
            "_view_module": "@jupyter-widgets/controls",
            "_model_module_version": "1.5.0",
            "value": "Downloading https://raw.githubusercontent.com/stanfordnlp/stanza-resources/main/resources_1.2.2.json: ",
            "_view_count": null,
            "_view_module_version": "1.5.0",
            "description_tooltip": null,
            "_model_module": "@jupyter-widgets/controls",
            "layout": "IPY_MODEL_213a9259bf7b443d92c9788bcfc6a198"
          }
        },
        "4d57415b44514517814aa0ac5b166ab1": {
          "model_module": "@jupyter-widgets/controls",
          "model_name": "FloatProgressModel",
          "model_module_version": "1.5.0",
          "state": {
            "_view_name": "ProgressView",
            "style": "IPY_MODEL_9dfa32cb46a843378cedf0e6af9994ff",
            "_dom_classes": [],
            "description": "",
            "_model_name": "FloatProgressModel",
            "bar_style": "success",
            "max": 24144,
            "_view_module": "@jupyter-widgets/controls",
            "_model_module_version": "1.5.0",
            "value": 24144,
            "_view_count": null,
            "_view_module_version": "1.5.0",
            "orientation": "horizontal",
            "min": 0,
            "description_tooltip": null,
            "_model_module": "@jupyter-widgets/controls",
            "layout": "IPY_MODEL_915019a8aefe49be8b60c063358743d1"
          }
        },
        "197935f56b5647da9e44b85f306558ef": {
          "model_module": "@jupyter-widgets/controls",
          "model_name": "HTMLModel",
          "model_module_version": "1.5.0",
          "state": {
            "_view_name": "HTMLView",
            "style": "IPY_MODEL_bed27bda29844c0d8fa0dfa22e6c32fe",
            "_dom_classes": [],
            "description": "",
            "_model_name": "HTMLModel",
            "placeholder": "​",
            "_view_module": "@jupyter-widgets/controls",
            "_model_module_version": "1.5.0",
            "value": " 140k/? [00:00&lt;00:00, 1.93MB/s]",
            "_view_count": null,
            "_view_module_version": "1.5.0",
            "description_tooltip": null,
            "_model_module": "@jupyter-widgets/controls",
            "layout": "IPY_MODEL_55c92b987dab41a3a684851417c98330"
          }
        },
        "797eb94c059e46d68e15d67cbbd1b94b": {
          "model_module": "@jupyter-widgets/controls",
          "model_name": "DescriptionStyleModel",
          "model_module_version": "1.5.0",
          "state": {
            "_view_name": "StyleView",
            "_model_name": "DescriptionStyleModel",
            "description_width": "",
            "_view_module": "@jupyter-widgets/base",
            "_model_module_version": "1.5.0",
            "_view_count": null,
            "_view_module_version": "1.2.0",
            "_model_module": "@jupyter-widgets/controls"
          }
        },
        "213a9259bf7b443d92c9788bcfc6a198": {
          "model_module": "@jupyter-widgets/base",
          "model_name": "LayoutModel",
          "model_module_version": "1.2.0",
          "state": {
            "_view_name": "LayoutView",
            "grid_template_rows": null,
            "right": null,
            "justify_content": null,
            "_view_module": "@jupyter-widgets/base",
            "overflow": null,
            "_model_module_version": "1.2.0",
            "_view_count": null,
            "flex_flow": null,
            "width": null,
            "min_width": null,
            "border": null,
            "align_items": null,
            "bottom": null,
            "_model_module": "@jupyter-widgets/base",
            "top": null,
            "grid_column": null,
            "overflow_y": null,
            "overflow_x": null,
            "grid_auto_flow": null,
            "grid_area": null,
            "grid_template_columns": null,
            "flex": null,
            "_model_name": "LayoutModel",
            "justify_items": null,
            "grid_row": null,
            "max_height": null,
            "align_content": null,
            "visibility": null,
            "align_self": null,
            "height": null,
            "min_height": null,
            "padding": null,
            "grid_auto_rows": null,
            "grid_gap": null,
            "max_width": null,
            "order": null,
            "_view_module_version": "1.2.0",
            "grid_template_areas": null,
            "object_position": null,
            "object_fit": null,
            "grid_auto_columns": null,
            "margin": null,
            "display": null,
            "left": null
          }
        },
        "9dfa32cb46a843378cedf0e6af9994ff": {
          "model_module": "@jupyter-widgets/controls",
          "model_name": "ProgressStyleModel",
          "model_module_version": "1.5.0",
          "state": {
            "_view_name": "StyleView",
            "_model_name": "ProgressStyleModel",
            "description_width": "",
            "_view_module": "@jupyter-widgets/base",
            "_model_module_version": "1.5.0",
            "_view_count": null,
            "_view_module_version": "1.2.0",
            "bar_color": null,
            "_model_module": "@jupyter-widgets/controls"
          }
        },
        "915019a8aefe49be8b60c063358743d1": {
          "model_module": "@jupyter-widgets/base",
          "model_name": "LayoutModel",
          "model_module_version": "1.2.0",
          "state": {
            "_view_name": "LayoutView",
            "grid_template_rows": null,
            "right": null,
            "justify_content": null,
            "_view_module": "@jupyter-widgets/base",
            "overflow": null,
            "_model_module_version": "1.2.0",
            "_view_count": null,
            "flex_flow": null,
            "width": null,
            "min_width": null,
            "border": null,
            "align_items": null,
            "bottom": null,
            "_model_module": "@jupyter-widgets/base",
            "top": null,
            "grid_column": null,
            "overflow_y": null,
            "overflow_x": null,
            "grid_auto_flow": null,
            "grid_area": null,
            "grid_template_columns": null,
            "flex": null,
            "_model_name": "LayoutModel",
            "justify_items": null,
            "grid_row": null,
            "max_height": null,
            "align_content": null,
            "visibility": null,
            "align_self": null,
            "height": null,
            "min_height": null,
            "padding": null,
            "grid_auto_rows": null,
            "grid_gap": null,
            "max_width": null,
            "order": null,
            "_view_module_version": "1.2.0",
            "grid_template_areas": null,
            "object_position": null,
            "object_fit": null,
            "grid_auto_columns": null,
            "margin": null,
            "display": null,
            "left": null
          }
        },
        "bed27bda29844c0d8fa0dfa22e6c32fe": {
          "model_module": "@jupyter-widgets/controls",
          "model_name": "DescriptionStyleModel",
          "model_module_version": "1.5.0",
          "state": {
            "_view_name": "StyleView",
            "_model_name": "DescriptionStyleModel",
            "description_width": "",
            "_view_module": "@jupyter-widgets/base",
            "_model_module_version": "1.5.0",
            "_view_count": null,
            "_view_module_version": "1.2.0",
            "_model_module": "@jupyter-widgets/controls"
          }
        },
        "55c92b987dab41a3a684851417c98330": {
          "model_module": "@jupyter-widgets/base",
          "model_name": "LayoutModel",
          "model_module_version": "1.2.0",
          "state": {
            "_view_name": "LayoutView",
            "grid_template_rows": null,
            "right": null,
            "justify_content": null,
            "_view_module": "@jupyter-widgets/base",
            "overflow": null,
            "_model_module_version": "1.2.0",
            "_view_count": null,
            "flex_flow": null,
            "width": null,
            "min_width": null,
            "border": null,
            "align_items": null,
            "bottom": null,
            "_model_module": "@jupyter-widgets/base",
            "top": null,
            "grid_column": null,
            "overflow_y": null,
            "overflow_x": null,
            "grid_auto_flow": null,
            "grid_area": null,
            "grid_template_columns": null,
            "flex": null,
            "_model_name": "LayoutModel",
            "justify_items": null,
            "grid_row": null,
            "max_height": null,
            "align_content": null,
            "visibility": null,
            "align_self": null,
            "height": null,
            "min_height": null,
            "padding": null,
            "grid_auto_rows": null,
            "grid_gap": null,
            "max_width": null,
            "order": null,
            "_view_module_version": "1.2.0",
            "grid_template_areas": null,
            "object_position": null,
            "object_fit": null,
            "grid_auto_columns": null,
            "margin": null,
            "display": null,
            "left": null
          }
        },
        "fe2d0eb6f42e4551b217324d50f031a3": {
          "model_module": "@jupyter-widgets/controls",
          "model_name": "HBoxModel",
          "model_module_version": "1.5.0",
          "state": {
            "_view_name": "HBoxView",
            "_dom_classes": [],
            "_model_name": "HBoxModel",
            "_view_module": "@jupyter-widgets/controls",
            "_model_module_version": "1.5.0",
            "_view_count": null,
            "_view_module_version": "1.5.0",
            "box_style": "",
            "layout": "IPY_MODEL_4ec2970cfe114aa78745ecdf2c57911e",
            "_model_module": "@jupyter-widgets/controls",
            "children": [
              "IPY_MODEL_a340410367dc4d728b79841f0e8b62ef",
              "IPY_MODEL_5a042f3d5e834549b72a0866dc86fc42",
              "IPY_MODEL_75b3cdd8c10c4389b84af1a5d32e78a5"
            ]
          }
        },
        "4ec2970cfe114aa78745ecdf2c57911e": {
          "model_module": "@jupyter-widgets/base",
          "model_name": "LayoutModel",
          "model_module_version": "1.2.0",
          "state": {
            "_view_name": "LayoutView",
            "grid_template_rows": null,
            "right": null,
            "justify_content": null,
            "_view_module": "@jupyter-widgets/base",
            "overflow": null,
            "_model_module_version": "1.2.0",
            "_view_count": null,
            "flex_flow": null,
            "width": null,
            "min_width": null,
            "border": null,
            "align_items": null,
            "bottom": null,
            "_model_module": "@jupyter-widgets/base",
            "top": null,
            "grid_column": null,
            "overflow_y": null,
            "overflow_x": null,
            "grid_auto_flow": null,
            "grid_area": null,
            "grid_template_columns": null,
            "flex": null,
            "_model_name": "LayoutModel",
            "justify_items": null,
            "grid_row": null,
            "max_height": null,
            "align_content": null,
            "visibility": null,
            "align_self": null,
            "height": null,
            "min_height": null,
            "padding": null,
            "grid_auto_rows": null,
            "grid_gap": null,
            "max_width": null,
            "order": null,
            "_view_module_version": "1.2.0",
            "grid_template_areas": null,
            "object_position": null,
            "object_fit": null,
            "grid_auto_columns": null,
            "margin": null,
            "display": null,
            "left": null
          }
        },
        "a340410367dc4d728b79841f0e8b62ef": {
          "model_module": "@jupyter-widgets/controls",
          "model_name": "HTMLModel",
          "model_module_version": "1.5.0",
          "state": {
            "_view_name": "HTMLView",
            "style": "IPY_MODEL_a6e87bc9659f4bdcb5bf237ce369069f",
            "_dom_classes": [],
            "description": "",
            "_model_name": "HTMLModel",
            "placeholder": "​",
            "_view_module": "@jupyter-widgets/controls",
            "_model_module_version": "1.5.0",
            "value": "Downloading http://nlp.stanford.edu/software/stanza/1.2.2/pt/default.zip: 100%",
            "_view_count": null,
            "_view_module_version": "1.5.0",
            "description_tooltip": null,
            "_model_module": "@jupyter-widgets/controls",
            "layout": "IPY_MODEL_696a3b8de4364c66b84e169411dc220c"
          }
        },
        "5a042f3d5e834549b72a0866dc86fc42": {
          "model_module": "@jupyter-widgets/controls",
          "model_name": "FloatProgressModel",
          "model_module_version": "1.5.0",
          "state": {
            "_view_name": "ProgressView",
            "style": "IPY_MODEL_2a392bb4899348bbb614347b92e7022e",
            "_dom_classes": [],
            "description": "",
            "_model_name": "FloatProgressModel",
            "bar_style": "success",
            "max": 209067526,
            "_view_module": "@jupyter-widgets/controls",
            "_model_module_version": "1.5.0",
            "value": 209067526,
            "_view_count": null,
            "_view_module_version": "1.5.0",
            "orientation": "horizontal",
            "min": 0,
            "description_tooltip": null,
            "_model_module": "@jupyter-widgets/controls",
            "layout": "IPY_MODEL_203787f71ff9440080f93ab5a9ec6dde"
          }
        },
        "75b3cdd8c10c4389b84af1a5d32e78a5": {
          "model_module": "@jupyter-widgets/controls",
          "model_name": "HTMLModel",
          "model_module_version": "1.5.0",
          "state": {
            "_view_name": "HTMLView",
            "style": "IPY_MODEL_031d5d48e9104d329bfde703037fac76",
            "_dom_classes": [],
            "description": "",
            "_model_name": "HTMLModel",
            "placeholder": "​",
            "_view_module": "@jupyter-widgets/controls",
            "_model_module_version": "1.5.0",
            "value": " 209M/209M [00:38&lt;00:00, 3.57MB/s]",
            "_view_count": null,
            "_view_module_version": "1.5.0",
            "description_tooltip": null,
            "_model_module": "@jupyter-widgets/controls",
            "layout": "IPY_MODEL_4f4582b7776741f99d661bc8cf3ca428"
          }
        },
        "a6e87bc9659f4bdcb5bf237ce369069f": {
          "model_module": "@jupyter-widgets/controls",
          "model_name": "DescriptionStyleModel",
          "model_module_version": "1.5.0",
          "state": {
            "_view_name": "StyleView",
            "_model_name": "DescriptionStyleModel",
            "description_width": "",
            "_view_module": "@jupyter-widgets/base",
            "_model_module_version": "1.5.0",
            "_view_count": null,
            "_view_module_version": "1.2.0",
            "_model_module": "@jupyter-widgets/controls"
          }
        },
        "696a3b8de4364c66b84e169411dc220c": {
          "model_module": "@jupyter-widgets/base",
          "model_name": "LayoutModel",
          "model_module_version": "1.2.0",
          "state": {
            "_view_name": "LayoutView",
            "grid_template_rows": null,
            "right": null,
            "justify_content": null,
            "_view_module": "@jupyter-widgets/base",
            "overflow": null,
            "_model_module_version": "1.2.0",
            "_view_count": null,
            "flex_flow": null,
            "width": null,
            "min_width": null,
            "border": null,
            "align_items": null,
            "bottom": null,
            "_model_module": "@jupyter-widgets/base",
            "top": null,
            "grid_column": null,
            "overflow_y": null,
            "overflow_x": null,
            "grid_auto_flow": null,
            "grid_area": null,
            "grid_template_columns": null,
            "flex": null,
            "_model_name": "LayoutModel",
            "justify_items": null,
            "grid_row": null,
            "max_height": null,
            "align_content": null,
            "visibility": null,
            "align_self": null,
            "height": null,
            "min_height": null,
            "padding": null,
            "grid_auto_rows": null,
            "grid_gap": null,
            "max_width": null,
            "order": null,
            "_view_module_version": "1.2.0",
            "grid_template_areas": null,
            "object_position": null,
            "object_fit": null,
            "grid_auto_columns": null,
            "margin": null,
            "display": null,
            "left": null
          }
        },
        "2a392bb4899348bbb614347b92e7022e": {
          "model_module": "@jupyter-widgets/controls",
          "model_name": "ProgressStyleModel",
          "model_module_version": "1.5.0",
          "state": {
            "_view_name": "StyleView",
            "_model_name": "ProgressStyleModel",
            "description_width": "",
            "_view_module": "@jupyter-widgets/base",
            "_model_module_version": "1.5.0",
            "_view_count": null,
            "_view_module_version": "1.2.0",
            "bar_color": null,
            "_model_module": "@jupyter-widgets/controls"
          }
        },
        "203787f71ff9440080f93ab5a9ec6dde": {
          "model_module": "@jupyter-widgets/base",
          "model_name": "LayoutModel",
          "model_module_version": "1.2.0",
          "state": {
            "_view_name": "LayoutView",
            "grid_template_rows": null,
            "right": null,
            "justify_content": null,
            "_view_module": "@jupyter-widgets/base",
            "overflow": null,
            "_model_module_version": "1.2.0",
            "_view_count": null,
            "flex_flow": null,
            "width": null,
            "min_width": null,
            "border": null,
            "align_items": null,
            "bottom": null,
            "_model_module": "@jupyter-widgets/base",
            "top": null,
            "grid_column": null,
            "overflow_y": null,
            "overflow_x": null,
            "grid_auto_flow": null,
            "grid_area": null,
            "grid_template_columns": null,
            "flex": null,
            "_model_name": "LayoutModel",
            "justify_items": null,
            "grid_row": null,
            "max_height": null,
            "align_content": null,
            "visibility": null,
            "align_self": null,
            "height": null,
            "min_height": null,
            "padding": null,
            "grid_auto_rows": null,
            "grid_gap": null,
            "max_width": null,
            "order": null,
            "_view_module_version": "1.2.0",
            "grid_template_areas": null,
            "object_position": null,
            "object_fit": null,
            "grid_auto_columns": null,
            "margin": null,
            "display": null,
            "left": null
          }
        },
        "031d5d48e9104d329bfde703037fac76": {
          "model_module": "@jupyter-widgets/controls",
          "model_name": "DescriptionStyleModel",
          "model_module_version": "1.5.0",
          "state": {
            "_view_name": "StyleView",
            "_model_name": "DescriptionStyleModel",
            "description_width": "",
            "_view_module": "@jupyter-widgets/base",
            "_model_module_version": "1.5.0",
            "_view_count": null,
            "_view_module_version": "1.2.0",
            "_model_module": "@jupyter-widgets/controls"
          }
        },
        "4f4582b7776741f99d661bc8cf3ca428": {
          "model_module": "@jupyter-widgets/base",
          "model_name": "LayoutModel",
          "model_module_version": "1.2.0",
          "state": {
            "_view_name": "LayoutView",
            "grid_template_rows": null,
            "right": null,
            "justify_content": null,
            "_view_module": "@jupyter-widgets/base",
            "overflow": null,
            "_model_module_version": "1.2.0",
            "_view_count": null,
            "flex_flow": null,
            "width": null,
            "min_width": null,
            "border": null,
            "align_items": null,
            "bottom": null,
            "_model_module": "@jupyter-widgets/base",
            "top": null,
            "grid_column": null,
            "overflow_y": null,
            "overflow_x": null,
            "grid_auto_flow": null,
            "grid_area": null,
            "grid_template_columns": null,
            "flex": null,
            "_model_name": "LayoutModel",
            "justify_items": null,
            "grid_row": null,
            "max_height": null,
            "align_content": null,
            "visibility": null,
            "align_self": null,
            "height": null,
            "min_height": null,
            "padding": null,
            "grid_auto_rows": null,
            "grid_gap": null,
            "max_width": null,
            "order": null,
            "_view_module_version": "1.2.0",
            "grid_template_areas": null,
            "object_position": null,
            "object_fit": null,
            "grid_auto_columns": null,
            "margin": null,
            "display": null,
            "left": null
          }
        }
      }
    }
  },
  "cells": [
    {
      "cell_type": "markdown",
      "metadata": {
        "id": "view-in-github",
        "colab_type": "text"
      },
      "source": [
        "<a href=\"https://colab.research.google.com/github/joaoppadua/adi_4277/blob/main/adi_4277.ipynb\" target=\"_parent\"><img src=\"https://colab.research.google.com/assets/colab-badge.svg\" alt=\"Open In Colab\"/></a>"
      ]
    },
    {
      "cell_type": "markdown",
      "metadata": {
        "id": "6e2XzMqX8rzu"
      },
      "source": [
        "# Notebook to clean and work with data from ADI 4277"
      ]
    },
    {
      "cell_type": "code",
      "metadata": {
        "colab": {
          "base_uri": "https://localhost:8080/"
        },
        "id": "TQP1S8mzRa86",
        "outputId": "04d35745-a0ad-48b6-a315-b74f11219efc"
      },
      "source": [
        "!pip install stanza"
      ],
      "execution_count": 1,
      "outputs": [
        {
          "output_type": "stream",
          "name": "stdout",
          "text": [
            "Collecting stanza\n",
            "  Downloading stanza-1.2.3-py3-none-any.whl (342 kB)\n",
            "\u001b[?25l\r\u001b[K     |█                               | 10 kB 25.3 MB/s eta 0:00:01\r\u001b[K     |██                              | 20 kB 8.0 MB/s eta 0:00:01\r\u001b[K     |██▉                             | 30 kB 6.6 MB/s eta 0:00:01\r\u001b[K     |███▉                            | 40 kB 6.5 MB/s eta 0:00:01\r\u001b[K     |████▉                           | 51 kB 4.9 MB/s eta 0:00:01\r\u001b[K     |█████▊                          | 61 kB 5.4 MB/s eta 0:00:01\r\u001b[K     |██████▊                         | 71 kB 5.1 MB/s eta 0:00:01\r\u001b[K     |███████▋                        | 81 kB 5.7 MB/s eta 0:00:01\r\u001b[K     |████████▋                       | 92 kB 4.8 MB/s eta 0:00:01\r\u001b[K     |█████████▋                      | 102 kB 5.0 MB/s eta 0:00:01\r\u001b[K     |██████████▌                     | 112 kB 5.0 MB/s eta 0:00:01\r\u001b[K     |███████████▌                    | 122 kB 5.0 MB/s eta 0:00:01\r\u001b[K     |████████████▌                   | 133 kB 5.0 MB/s eta 0:00:01\r\u001b[K     |█████████████▍                  | 143 kB 5.0 MB/s eta 0:00:01\r\u001b[K     |██████████████▍                 | 153 kB 5.0 MB/s eta 0:00:01\r\u001b[K     |███████████████▎                | 163 kB 5.0 MB/s eta 0:00:01\r\u001b[K     |████████████████▎               | 174 kB 5.0 MB/s eta 0:00:01\r\u001b[K     |█████████████████▎              | 184 kB 5.0 MB/s eta 0:00:01\r\u001b[K     |██████████████████▏             | 194 kB 5.0 MB/s eta 0:00:01\r\u001b[K     |███████████████████▏            | 204 kB 5.0 MB/s eta 0:00:01\r\u001b[K     |████████████████████▏           | 215 kB 5.0 MB/s eta 0:00:01\r\u001b[K     |█████████████████████           | 225 kB 5.0 MB/s eta 0:00:01\r\u001b[K     |██████████████████████          | 235 kB 5.0 MB/s eta 0:00:01\r\u001b[K     |███████████████████████         | 245 kB 5.0 MB/s eta 0:00:01\r\u001b[K     |████████████████████████        | 256 kB 5.0 MB/s eta 0:00:01\r\u001b[K     |█████████████████████████       | 266 kB 5.0 MB/s eta 0:00:01\r\u001b[K     |█████████████████████████▉      | 276 kB 5.0 MB/s eta 0:00:01\r\u001b[K     |██████████████████████████▉     | 286 kB 5.0 MB/s eta 0:00:01\r\u001b[K     |███████████████████████████▊    | 296 kB 5.0 MB/s eta 0:00:01\r\u001b[K     |████████████████████████████▊   | 307 kB 5.0 MB/s eta 0:00:01\r\u001b[K     |█████████████████████████████▊  | 317 kB 5.0 MB/s eta 0:00:01\r\u001b[K     |██████████████████████████████▋ | 327 kB 5.0 MB/s eta 0:00:01\r\u001b[K     |███████████████████████████████▋| 337 kB 5.0 MB/s eta 0:00:01\r\u001b[K     |████████████████████████████████| 342 kB 5.0 MB/s \n",
            "\u001b[?25hRequirement already satisfied: protobuf in /usr/local/lib/python3.7/dist-packages (from stanza) (3.17.3)\n",
            "Requirement already satisfied: tqdm in /usr/local/lib/python3.7/dist-packages (from stanza) (4.62.2)\n",
            "Requirement already satisfied: requests in /usr/local/lib/python3.7/dist-packages (from stanza) (2.23.0)\n",
            "Requirement already satisfied: numpy in /usr/local/lib/python3.7/dist-packages (from stanza) (1.19.5)\n",
            "Requirement already satisfied: torch>=1.3.0 in /usr/local/lib/python3.7/dist-packages (from stanza) (1.9.0+cu102)\n",
            "Requirement already satisfied: typing-extensions in /usr/local/lib/python3.7/dist-packages (from torch>=1.3.0->stanza) (3.7.4.3)\n",
            "Requirement already satisfied: six>=1.9 in /usr/local/lib/python3.7/dist-packages (from protobuf->stanza) (1.15.0)\n",
            "Requirement already satisfied: chardet<4,>=3.0.2 in /usr/local/lib/python3.7/dist-packages (from requests->stanza) (3.0.4)\n",
            "Requirement already satisfied: urllib3!=1.25.0,!=1.25.1,<1.26,>=1.21.1 in /usr/local/lib/python3.7/dist-packages (from requests->stanza) (1.24.3)\n",
            "Requirement already satisfied: idna<3,>=2.5 in /usr/local/lib/python3.7/dist-packages (from requests->stanza) (2.10)\n",
            "Requirement already satisfied: certifi>=2017.4.17 in /usr/local/lib/python3.7/dist-packages (from requests->stanza) (2021.5.30)\n",
            "Installing collected packages: stanza\n",
            "Successfully installed stanza-1.2.3\n"
          ]
        }
      ]
    },
    {
      "cell_type": "code",
      "metadata": {
        "colab": {
          "base_uri": "https://localhost:8080/",
          "height": 115,
          "referenced_widgets": [
            "9fdee3c9ecbd4b5c8e6e56428cac8515",
            "0d248080d2654b7494681a4562244e42",
            "9bd42534a77b4f5cb7a02e69e9157799",
            "4d57415b44514517814aa0ac5b166ab1",
            "197935f56b5647da9e44b85f306558ef",
            "797eb94c059e46d68e15d67cbbd1b94b",
            "213a9259bf7b443d92c9788bcfc6a198",
            "9dfa32cb46a843378cedf0e6af9994ff",
            "915019a8aefe49be8b60c063358743d1",
            "bed27bda29844c0d8fa0dfa22e6c32fe",
            "55c92b987dab41a3a684851417c98330",
            "fe2d0eb6f42e4551b217324d50f031a3",
            "4ec2970cfe114aa78745ecdf2c57911e",
            "a340410367dc4d728b79841f0e8b62ef",
            "5a042f3d5e834549b72a0866dc86fc42",
            "75b3cdd8c10c4389b84af1a5d32e78a5",
            "a6e87bc9659f4bdcb5bf237ce369069f",
            "696a3b8de4364c66b84e169411dc220c",
            "2a392bb4899348bbb614347b92e7022e",
            "203787f71ff9440080f93ab5a9ec6dde",
            "031d5d48e9104d329bfde703037fac76",
            "4f4582b7776741f99d661bc8cf3ca428"
          ]
        },
        "id": "VDGRpaxj9yy6",
        "outputId": "5ea78d06-74b6-4938-9bc2-7b02bda99213"
      },
      "source": [
        "#Import modules\n",
        "import re, nltk, os, stanza\n",
        "from nltk import RegexpTokenizer\n",
        "stanza.download('pt')"
      ],
      "execution_count": 2,
      "outputs": [
        {
          "output_type": "display_data",
          "data": {
            "application/vnd.jupyter.widget-view+json": {
              "model_id": "9fdee3c9ecbd4b5c8e6e56428cac8515",
              "version_minor": 0,
              "version_major": 2
            },
            "text/plain": [
              "Downloading https://raw.githubusercontent.com/stanfordnlp/stanza-resources/main/resources_1.2.2.json:   0%|   …"
            ]
          },
          "metadata": {}
        },
        {
          "output_type": "stream",
          "name": "stderr",
          "text": [
            "2021-09-25 18:01:03 INFO: Downloading default packages for language: pt (Portuguese)...\n"
          ]
        },
        {
          "output_type": "display_data",
          "data": {
            "application/vnd.jupyter.widget-view+json": {
              "model_id": "fe2d0eb6f42e4551b217324d50f031a3",
              "version_minor": 0,
              "version_major": 2
            },
            "text/plain": [
              "Downloading http://nlp.stanford.edu/software/stanza/1.2.2/pt/default.zip:   0%|          | 0.00/209M [00:00<?,…"
            ]
          },
          "metadata": {}
        },
        {
          "output_type": "stream",
          "name": "stderr",
          "text": [
            "2021-09-25 18:01:44 INFO: Finished downloading models and saved to /root/stanza_resources.\n"
          ]
        }
      ]
    },
    {
      "cell_type": "code",
      "metadata": {
        "id": "1y8s4HvJ_4Q1",
        "colab": {
          "base_uri": "https://localhost:8080/"
        },
        "outputId": "0ad04894-efb5-49ac-ab43-97662781eb95"
      },
      "source": [
        "#Mount Google Drive\n",
        "from google.colab import drive\n",
        "drive.mount('/content/drive')"
      ],
      "execution_count": 3,
      "outputs": [
        {
          "output_type": "stream",
          "name": "stdout",
          "text": [
            "Mounted at /content/drive\n"
          ]
        }
      ]
    },
    {
      "cell_type": "markdown",
      "metadata": {
        "id": "g3YPbQKh8_bJ"
      },
      "source": [
        "First, we need do clean the data from headers and stuff. Let's write a function for that (adapted from Diego Feijo: https://github.com/diego-feijo?tab=repositories)"
      ]
    },
    {
      "cell_type": "code",
      "metadata": {
        "id": "MH4wyyYD88-l"
      },
      "source": [
        "def remove_headers(text):\n",
        "    '''Function to clean \"acórdão\" from as much textual noise as possible\n",
        "      Input: string\n",
        "      Output: string'''\n",
        "    presentation_pattern = re.compile(r'Supremo Tribunal Federal\\s+Coordenadoria de Análise de Jurisprudência\\s+Dje nº \\d+ Divulgação \\d+\\/\\d+\\/\\d+\\s+Publicação \\d+\\/\\d+\\/\\d+\\sEmentário nº \\d+-\\d\\s+\\d+\\/\\d+\\/\\d+\\s+')\n",
        "    name_pattern = re.compile(r'AÇÃO DIRETA DE INCONSTITUCIONALIDADE \\d\\.\\d+ DISTRITO FEDERAL')\n",
        "    ref_pattern = re.compile(r'\\nADI 4\\.277\\s')\n",
        "    req_pattern = re.compile(r'REQTE.+')\n",
        "    int_pattern = re.compile(r'INTDO.+')\n",
        "    adv_pattern = re.compile(r'ADV.+')\n",
        "    date_pattern =re.compile(r'\\n\\d+\\/\\d+\\/\\d+\\s')\n",
        "    header_pattern1 = re.compile(r'(^documento pode ser acessado .*?^Inteiro Teor .*?$|^\\d*\\nDocumento assinado digitalmente conforme.*?$|(^[A-Z]+ \\d+ [A-Z]+)* / (AC|AM|AP|RS|SC|PR|RJ|SP|ES|MG|BA|SE|AL|PE|PI|CE|RN|PA|MA|RO|RR|MA|PB|TO|MS|MT|GO|DF)$)', flags=re.UNICODE | re.DOTALL | re.MULTILINE)\n",
        "    header_pattern2 = re.compile(r'(^documento pode ser acessado .*?$|^Documento assinado digitalmente conforme.*?$)', flags=re.UNICODE | re.DOTALL | re.MULTILINE)\n",
        "    case_number = re.compile(r'(\\n\\n[A-Z]+ \\d+ [A-Z]+)* / (AC|AM|AP|RS|SC|PR|RJ|SP|ES|MG|BA|SE|AL|PE|PI|CE|RN|PA|MA|RO|RR|MA|PB|TO|MS|MT|GO|DF)\\n\\n', flags=re.UNICODE | re.DOTALL | re.MULTILINE)\n",
        "    page_number = re.compile(r'(\\n)?\\d{3}\\n', flags=re.UNICODE | re.DOTALL | re.MULTILINE)\n",
        "    text = re.sub(presentation_pattern, '', text)\n",
        "    text = re.sub(name_pattern, '', text)\n",
        "    text = re.sub(ref_pattern, '', text)\n",
        "    text = re.sub(req_pattern, '', text)\n",
        "    text = re.sub(int_pattern, '', text)\n",
        "    text = re.sub(adv_pattern, '', text)\n",
        "    text = re.sub(date_pattern, '', text)\n",
        "    text = re.sub(header_pattern1, '', text)\n",
        "    text = re.sub(header_pattern2, '', text)\n",
        "    text = re.sub(case_number, '', text)\n",
        "    text = re.sub(page_number, '', text)\n",
        "    return text"
      ],
      "execution_count": 4,
      "outputs": []
    },
    {
      "cell_type": "markdown",
      "metadata": {
        "id": "pUrTOwdk9prQ"
      },
      "source": [
        "Now we need to load the data"
      ]
    },
    {
      "cell_type": "code",
      "metadata": {
        "id": "eX35HsrQ9tBb"
      },
      "source": [
        "FILEPATH = 'drive/MyDrive/coding/python/local_repo/adi_4277/'\n",
        "FILENAME = 'adi_4277.txt'\n",
        "with open(os.path.join(FILEPATH, FILENAME), 'r', errors='ignore') as f:\n",
        "    data_raw = f.read()"
      ],
      "execution_count": 5,
      "outputs": []
    },
    {
      "cell_type": "code",
      "metadata": {
        "id": "20Nwzg74-Kyu"
      },
      "source": [
        "data_sans_headers = remove_headers(data_raw)"
      ],
      "execution_count": 6,
      "outputs": []
    },
    {
      "cell_type": "code",
      "metadata": {
        "colab": {
          "base_uri": "https://localhost:8080/"
        },
        "id": "TWYh85yRAzNu",
        "outputId": "83a12587-11af-403a-c13b-c75e654ad80c"
      },
      "source": [
        "#data_sans_headers\n",
        "len(data_sans_headers.split())"
      ],
      "execution_count": 51,
      "outputs": [
        {
          "output_type": "execute_result",
          "data": {
            "text/plain": [
              "76357"
            ]
          },
          "metadata": {},
          "execution_count": 51
        }
      ]
    },
    {
      "cell_type": "markdown",
      "metadata": {
        "id": "9kRrnRfsNQov"
      },
      "source": [
        "Now, clean and tokenize the texts. First, we'll write a function. Then, we will apply it to the pre-cleaned data (with most of headers, page markers and other textual noise extracted)."
      ]
    },
    {
      "cell_type": "code",
      "metadata": {
        "id": "OxRnMDa6Dz1R"
      },
      "source": [
        "def clean_text(text):\n",
        "  ''' Cleans a pre-cleaned string, normalize and tokenize it'''\n",
        "  tokenized = RegexpTokenizer(r'\\w+').tokenize(text)\n",
        "  tokens = [token.lower() for token in tokenized if token.isalpha()]\n",
        "  return tokens"
      ],
      "execution_count": 8,
      "outputs": []
    },
    {
      "cell_type": "code",
      "metadata": {
        "id": "T74ubtM8PpZS"
      },
      "source": [
        "tokens = clean_text(data_sans_headers)"
      ],
      "execution_count": 9,
      "outputs": []
    },
    {
      "cell_type": "code",
      "metadata": {
        "colab": {
          "base_uri": "https://localhost:8080/"
        },
        "id": "dP9kBRNGPuyB",
        "outputId": "8d504ca3-1eef-476a-906a-9dc882dbcdfe"
      },
      "source": [
        "#Check to see if it worked\n",
        "len(tokens), tokens[:50]"
      ],
      "execution_count": 10,
      "outputs": [
        {
          "output_type": "execute_result",
          "data": {
            "text/plain": [
              "(74957,\n",
              " ['plenário',\n",
              "  'relator',\n",
              "  'min',\n",
              "  'ayres',\n",
              "  'britto',\n",
              "  'procuradora',\n",
              "  'geral',\n",
              "  'da',\n",
              "  'república',\n",
              "  'presidente',\n",
              "  'da',\n",
              "  'república',\n",
              "  'congresso',\n",
              "  'nacional',\n",
              "  'conectas',\n",
              "  'direitos',\n",
              "  'humanos',\n",
              "  'associação',\n",
              "  'brasileira',\n",
              "  'de',\n",
              "  'gays',\n",
              "  'lésbicas',\n",
              "  'e',\n",
              "  'transgêneros',\n",
              "  'abglt',\n",
              "  'marcela',\n",
              "  'cristina',\n",
              "  'fogaça',\n",
              "  'vieira',\n",
              "  'e',\n",
              "  'outro',\n",
              "  'a',\n",
              "  's',\n",
              "  'associação',\n",
              "  'de',\n",
              "  'incentivo',\n",
              "  'à',\n",
              "  'educação',\n",
              "  'e',\n",
              "  'saúde',\n",
              "  'de',\n",
              "  'são',\n",
              "  'paulo',\n",
              "  'fernando',\n",
              "  'quaresma',\n",
              "  'de',\n",
              "  'azevedo',\n",
              "  'e',\n",
              "  'outro',\n",
              "  'a'])"
            ]
          },
          "metadata": {},
          "execution_count": 10
        }
      ]
    },
    {
      "cell_type": "markdown",
      "metadata": {
        "id": "a27r9Vs8Qd-g"
      },
      "source": [
        "Everything seems fine. Now, let's stem the data and build a generator and a Stanza pipeline"
      ]
    },
    {
      "cell_type": "code",
      "metadata": {
        "colab": {
          "base_uri": "https://localhost:8080/"
        },
        "id": "Xa1IB4RQSDj-",
        "outputId": "b2d24f5b-fb39-4fc9-f64b-55f2271e4949"
      },
      "source": [
        "nlp = stanza.Pipeline('pt')\n",
        "nlp_text = nlp(data_sans_headers)"
      ],
      "execution_count": 11,
      "outputs": [
        {
          "output_type": "stream",
          "name": "stderr",
          "text": [
            "2021-09-25 18:04:00 INFO: Loading these models for language: pt (Portuguese):\n",
            "=======================\n",
            "| Processor | Package |\n",
            "-----------------------\n",
            "| tokenize  | bosque  |\n",
            "| mwt       | bosque  |\n",
            "| pos       | bosque  |\n",
            "| lemma     | bosque  |\n",
            "| depparse  | bosque  |\n",
            "=======================\n",
            "\n",
            "2021-09-25 18:04:00 INFO: Use device: cpu\n",
            "2021-09-25 18:04:00 INFO: Loading: tokenize\n",
            "2021-09-25 18:04:00 INFO: Loading: mwt\n",
            "2021-09-25 18:04:00 INFO: Loading: pos\n",
            "2021-09-25 18:04:01 INFO: Loading: lemma\n",
            "2021-09-25 18:04:01 INFO: Loading: depparse\n",
            "2021-09-25 18:04:01 INFO: Done loading processors!\n",
            "/usr/local/lib/python3.7/dist-packages/torch/_tensor.py:575: UserWarning: floor_divide is deprecated, and will be removed in a future version of pytorch. It currently rounds toward 0 (like the 'trunc' function NOT 'floor'). This results in incorrect rounding for negative values.\n",
            "To keep the current behavior, use torch.div(a, b, rounding_mode='trunc'), or for actual floor division, use torch.div(a, b, rounding_mode='floor'). (Triggered internally at  /pytorch/aten/src/ATen/native/BinaryOps.cpp:467.)\n",
            "  return torch.floor_divide(self, other)\n"
          ]
        }
      ]
    },
    {
      "cell_type": "code",
      "metadata": {
        "colab": {
          "base_uri": "https://localhost:8080/"
        },
        "id": "AGbxq913P3Xp",
        "outputId": "5988ce05-f6bd-449b-b32f-94a9e15f115c"
      },
      "source": [
        "lemmas = [word.lemma for sent in nlp_text.sentences for word in sent.words]\n",
        "freqdist = nltk.FreqDist(lemmas)\n",
        "freqdist['literal']"
      ],
      "execution_count": 12,
      "outputs": [
        {
          "output_type": "execute_result",
          "data": {
            "text/plain": [
              "11"
            ]
          },
          "metadata": {},
          "execution_count": 12
        }
      ]
    },
    {
      "cell_type": "code",
      "metadata": {
        "id": "mGRF1BRtWTv_"
      },
      "source": [
        "bigrams = nltk.bigrams(lemmas)\n",
        "#next(bigrams)"
      ],
      "execution_count": 13,
      "outputs": []
    },
    {
      "cell_type": "code",
      "metadata": {
        "colab": {
          "base_uri": "https://localhost:8080/"
        },
        "id": "LcfeoMsDWxzZ",
        "outputId": "cfb686ce-c26a-4fb3-920c-8a881cf0f709"
      },
      "source": [
        "literal_bigram = [(w1, w2) for w1, w2 in bigrams if w1 == 'literal' or w2 == 'literal']\n",
        "literal_bigram"
      ],
      "execution_count": 14,
      "outputs": [
        {
          "output_type": "execute_result",
          "data": {
            "text/plain": [
              "[('mesmo', 'literal'),\n",
              " ('literal', ','),\n",
              " ('seu', 'literal'),\n",
              " ('literal', 'categorização'),\n",
              " ('previsão', 'literal'),\n",
              " ('literal', '('),\n",
              " ('interpretação', 'literal'),\n",
              " ('literal', 'de'),\n",
              " ('expressão', 'literal'),\n",
              " ('literal', 'não'),\n",
              " ('expressão', 'literal'),\n",
              " ('literal', 'de'),\n",
              " ('expressão', 'literal'),\n",
              " ('literal', 'de'),\n",
              " ('expressão', 'literal'),\n",
              " ('literal', 'de'),\n",
              " ('sentido', 'literal'),\n",
              " ('literal', 'de'),\n",
              " ('expressão', 'literal'),\n",
              " ('literal', 'não'),\n",
              " ('expressão', 'literal'),\n",
              " ('literal', 'de')]"
            ]
          },
          "metadata": {},
          "execution_count": 14
        }
      ]
    },
    {
      "cell_type": "markdown",
      "metadata": {
        "id": "jplUn8raWG_N"
      },
      "source": [
        "Now we will creat a nltk.Text object and print a concordance line for the word 'literal'."
      ]
    },
    {
      "cell_type": "code",
      "metadata": {
        "colab": {
          "base_uri": "https://localhost:8080/"
        },
        "id": "DigZabDFQnud",
        "outputId": "7b7a6d08-8db1-4b03-e12b-abbb846fb8f4"
      },
      "source": [
        "conc_text = nltk.Text(tokens)\n",
        "conc_text.concordance('literal')"
      ],
      "execution_count": 15,
      "outputs": [
        {
          "output_type": "stream",
          "name": "stdout",
          "text": [
            "Displaying 10 of 10 matches:\n",
            "te como se dá já de forma até mesmo literal com ordenamentos jurídicos da comun\n",
            " do art da constituição donde a sua literal categorização com base da sociedade\n",
            "eterossexuais por força da previsão literal entre homem e mulher assiste razão \n",
            "o tribunal federal df interpretação literal do texto constitucional se isso não\n",
            "o em casamento adi logo a expressão literal não deixa nenhuma dúvida de que nós\n",
            "es eles resultam tanto da expressão literal da lei quanto da chamada vontade do\n",
            "igurar violência contra a expressão literal do texto bittencourt carlos alberto\n",
            "vel dentro dos limites da expressão literal do texto rp rel min octavio gallott\n",
            "o em casamento adi logo a expressão literal não deixa dúvida alguma de que nós \n",
            "como pecado nefando ou na expressão literal daqueles textos legislativos como c\n"
          ]
        }
      ]
    },
    {
      "cell_type": "markdown",
      "metadata": {
        "id": "9vfikFc8ZNKl"
      },
      "source": [
        "As we can see, the concordance lines table does not elucidate much. It shows sentences where the idea of a \"literal\" intepretation or expression is a proviso on the creative interpretation that the Constitution might also allow. The prevalence of 10 in almost 75,000 tokens also does not suggest that the concept is very relevant. "
      ]
    },
    {
      "cell_type": "code",
      "metadata": {
        "id": "HIDKfPNrZ2e2",
        "colab": {
          "base_uri": "https://localhost:8080/"
        },
        "outputId": "582bcba3-6c81-4f38-e6bf-6b5a2253d4ff"
      },
      "source": [
        "#Looking at another word associated with the semantic field of limits to creative intepretation\n",
        "conc_text.concordance('limites')"
      ],
      "execution_count": 17,
      "outputs": [
        {
          "output_type": "stream",
          "name": "stdout",
          "text": [
            "Displaying 25 of 26 matches:\n",
            "genhosa de todas busca submeter nos limites da razoabilidade e da proporcionali\n",
            "os os entes da federação dentro dos limites de suas competências e nem poderia \n",
            "a república a questão transcende os limites territoriais daquela unidade federa\n",
            "a disposições testamentárias e seus limites legais não podem compartilhar a pro\n",
            "or desse direito que transcende aos limites intersubjetivos de um litígio entre\n",
            "lhida para se viver não esbarra nos limites do direito principalmente porque o \n",
            "a expressão que se estende além dos limites da atividade política ou do espaço \n",
            "a do dispositivo em foco diante dos limites formais e materiais que a própria l\n",
            "ica dos magistrados cessa diante de limites objetivos do direito posto em outra\n",
            "ante quando se trata de estabelecer limites entre uma interpretação extensivain\n",
            "estender a aplicação de um texto há limites a esta extensão que são atingidos t\n",
            "onstituição no presente caso e seus limites em síntese o pedido das ações é par\n",
            " se indagar inicialmente acerca dos limites e das possibilidades de se legitima\n",
            "r sérios questionamentos quanto aos limites da utilização da técnica da interpr\n",
            "ção conforme à constituição conhece limites eles resultam tanto da expressão li\n",
            "uição se mostra possível dentro dos limites da expressão literal do texto rp re\n",
            "nho dj set muitas vezes porém esses limites não se apresentam claros e são difí\n",
            "rui medeiros que a problemática dos limites da interpretação conforme à constit\n",
            "dissociavelmente ligada ao tema dos limites da interpretação em geral medeiros \n",
            "sibilidade de tais decisões mas nos limites que elas devem respeitar o supremo \n",
            "casos a corte não se atenta para os limites sempre imprecisos entre a interpret\n",
            "essório ou do direito de família há limites hermenêuticos para que o judiciário\n",
            "a portanto a fundamentação sobre os limites e a adi possibilidade de interpreta\n",
            " importante retomar o argumento dos limites e possibilidades de utilização nest\n",
            "estender a aplicação de um texto há limites a esta extensão que são atingidos t\n"
          ]
        }
      ]
    },
    {
      "cell_type": "markdown",
      "metadata": {
        "id": "dnIIFCsiNa_Z"
      },
      "source": [
        "Now, let's look at how prevalent is the lemma \"literal\" vis-à-vis the other words of the same POS"
      ]
    },
    {
      "cell_type": "code",
      "metadata": {
        "colab": {
          "base_uri": "https://localhost:8080/"
        },
        "id": "FQ9ywyYfJleK",
        "outputId": "1918c81d-9eee-4783-ff1f-c7f48835fffe"
      },
      "source": [
        "test_text = nlp('literal')\n",
        "pos_ = [word.pos for sent in test_text.sentences for word in sent.words]\n",
        "pos_"
      ],
      "execution_count": 38,
      "outputs": [
        {
          "output_type": "execute_result",
          "data": {
            "text/plain": [
              "['ADJ']"
            ]
          },
          "metadata": {},
          "execution_count": 38
        }
      ]
    },
    {
      "cell_type": "code",
      "metadata": {
        "id": "QvpOgwxIKaHN"
      },
      "source": [
        "adjectives = [word.lemma for sent in nlp_text.sentences for word in sent.words if word.pos == 'ADJ']"
      ],
      "execution_count": 39,
      "outputs": []
    },
    {
      "cell_type": "code",
      "metadata": {
        "colab": {
          "base_uri": "https://localhost:8080/"
        },
        "id": "_xztFXoELAHQ",
        "outputId": "7780cdfe-561a-4ea4-dc2f-06641417500e"
      },
      "source": [
        "adjectives[:50]"
      ],
      "execution_count": 40,
      "outputs": [
        {
          "output_type": "execute_result",
          "data": {
            "text/plain": [
              "['parcial',\n",
              " 'constitucional',\n",
              " 'implícito',\n",
              " 'contrário',\n",
              " 'jurídico',\n",
              " '3º',\n",
              " 'constitucional',\n",
              " 'normativo',\n",
              " 'geral',\n",
              " 'negativo',\n",
              " 'sexual',\n",
              " 'direto',\n",
              " 'humano',\n",
              " 'elevado',\n",
              " 'normativo',\n",
              " 'sexual',\n",
              " 'natural',\n",
              " 'empírico',\n",
              " 'pétreo',\n",
              " 'não-reducionista',\n",
              " 'especial',\n",
              " 'constitucional',\n",
              " 'coloquial',\n",
              " 'proverbial',\n",
              " 'doméstico',\n",
              " 'formal',\n",
              " 'heteroafetivo',\n",
              " 'homoafetivo',\n",
              " 'família',\n",
              " 'heteroafetivo',\n",
              " 'cartorário',\n",
              " 'civil',\n",
              " 'religioso',\n",
              " 'privado',\n",
              " 'adulto',\n",
              " 'civil',\n",
              " 'necessário',\n",
              " 'tricotômico',\n",
              " 'familiar',\n",
              " 'principal',\n",
              " 'institucional',\n",
              " 'fundamental',\n",
              " 'privado',\n",
              " '5º',\n",
              " 'heteroafetivo',\n",
              " 'homoafetivo',\n",
              " 'igual',\n",
              " 'subjetivo',\n",
              " 'autonomizada',\n",
              " 'central']"
            ]
          },
          "metadata": {},
          "execution_count": 40
        }
      ]
    },
    {
      "cell_type": "code",
      "metadata": {
        "colab": {
          "base_uri": "https://localhost:8080/"
        },
        "id": "fhZT2bOXLDIu",
        "outputId": "2a075f67-73e4-4ee9-f740-eba13c054543"
      },
      "source": [
        "num_adjs = len(adjectives)\n",
        "num_adjs, len(set(adjectives))"
      ],
      "execution_count": 41,
      "outputs": [
        {
          "output_type": "execute_result",
          "data": {
            "text/plain": [
              "(7009, 1234)"
            ]
          },
          "metadata": {},
          "execution_count": 41
        }
      ]
    },
    {
      "cell_type": "code",
      "metadata": {
        "colab": {
          "base_uri": "https://localhost:8080/"
        },
        "id": "qTLD_vGpLJyf",
        "outputId": "c486ee3a-d8f0-41cd-f524-66452b19e5a4"
      },
      "source": [
        "normalized_literal = freqdist['literal'] / num_adjs\n",
        "normalized_literal"
      ],
      "execution_count": 42,
      "outputs": [
        {
          "output_type": "execute_result",
          "data": {
            "text/plain": [
              "0.0015694107575973748"
            ]
          },
          "metadata": {},
          "execution_count": 42
        }
      ]
    },
    {
      "cell_type": "code",
      "metadata": {
        "colab": {
          "base_uri": "https://localhost:8080/"
        },
        "id": "71Vjt8jVLghE",
        "outputId": "ef121beb-9687-47e0-905d-3db9b79e65e0"
      },
      "source": [
        "freqdist_adjs = nltk.FreqDist(adjectives)\n",
        "most_common_adjs = freqdist_noun.most_common()\n",
        "most_common_adjs[0]"
      ],
      "execution_count": 44,
      "outputs": [
        {
          "output_type": "execute_result",
          "data": {
            "text/plain": [
              "('constitucional', 322)"
            ]
          },
          "metadata": {},
          "execution_count": 44
        }
      ]
    },
    {
      "cell_type": "code",
      "metadata": {
        "colab": {
          "base_uri": "https://localhost:8080/"
        },
        "id": "cVypLrO4L-lB",
        "outputId": "6866e84d-c271-4184-9362-59b235e04754"
      },
      "source": [
        "ratio_adjs = most_common_adjs[0][1] / freqdist_adjs['literal']\n",
        "ratio_adjs"
      ],
      "execution_count": 48,
      "outputs": [
        {
          "output_type": "execute_result",
          "data": {
            "text/plain": [
              "29.272727272727273"
            ]
          },
          "metadata": {},
          "execution_count": 48
        }
      ]
    },
    {
      "cell_type": "markdown",
      "metadata": {
        "id": "UJA1cFq5NmKc"
      },
      "source": [
        "Compared to the most commons adjective, \"constitucional\", \"literal\" is over 29 times less likely to appear in a modifier slot. So there is limited attention to the concept conveyed by literal interpretaions or the literal interpretation as a limit to other types of constitutional sense making procedures. "
      ]
    },
    {
      "cell_type": "code",
      "metadata": {
        "id": "kqzRXuIOMh6v"
      },
      "source": [
        ""
      ],
      "execution_count": null,
      "outputs": []
    }
  ]
}