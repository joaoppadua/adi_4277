{
  "nbformat": 4,
  "nbformat_minor": 0,
  "metadata": {
    "colab": {
      "name": "Untitled1.ipynb",
      "provenance": [],
      "authorship_tag": "ABX9TyOxZw6+Dxi655XyMQYf3LAB",
      "include_colab_link": true
    },
    "kernelspec": {
      "name": "python3",
      "display_name": "Python 3"
    },
    "language_info": {
      "name": "python"
    }
  },
  "cells": [
    {
      "cell_type": "markdown",
      "metadata": {
        "id": "view-in-github",
        "colab_type": "text"
      },
      "source": [
        "<a href=\"https://colab.research.google.com/github/joaoppadua/adi_4277/blob/main/ADI_4277.ipynb\" target=\"_parent\"><img src=\"https://colab.research.google.com/assets/colab-badge.svg\" alt=\"Open In Colab\"/></a>"
      ]
    },
    {
      "cell_type": "markdown",
      "metadata": {
        "id": "6e2XzMqX8rzu"
      },
      "source": [
        "# Notebook to clean and work with data from ADI 4277"
      ]
    },
    {
      "cell_type": "markdown",
      "metadata": {
        "id": "g3YPbQKh8_bJ"
      },
      "source": [
        "First, we need do clean the data from headers and stuff. Let's write a function for that (adapted from Diego Feijo: https://github.com/diego-feijo?tab=repositories)"
      ]
    },
    {
      "cell_type": "code",
      "metadata": {
        "id": "MH4wyyYD88-l"
      },
      "source": [
        ""
      ],
      "execution_count": null,
      "outputs": []
    }
  ]
}